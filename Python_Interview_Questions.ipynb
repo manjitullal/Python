{
  "nbformat": 4,
  "nbformat_minor": 0,
  "metadata": {
    "colab": {
      "name": "Python-Interview-Questions.ipynb",
      "provenance": [],
      "collapsed_sections": []
    },
    "kernelspec": {
      "name": "python3",
      "display_name": "Python 3"
    }
  },
  "cells": [
    {
      "cell_type": "markdown",
      "metadata": {
        "id": "1sPc7sTJaZ4F",
        "colab_type": "text"
      },
      "source": [
        "### 1. find the first duplicate number for which the second occurrence has the minimal index"
      ]
    },
    {
      "cell_type": "code",
      "metadata": {
        "id": "D_WJucbpacFV",
        "colab_type": "code",
        "colab": {
          "base_uri": "https://localhost:8080/",
          "height": 34
        },
        "outputId": "603fd766-52d5-4017-bf57-adf42b96c1fb"
      },
      "source": [
        "''' \n",
        "best solution:\n",
        "Sweep the input array using a dictionary to mark the values that you see. \n",
        "\n",
        "Key idea is that when the element repeats that has the minimal second occurence\n",
        "\n",
        "'''\n",
        "\n",
        "def firstduplicate(a):\n",
        "  adict = {}\n",
        "  for i in a:\n",
        "    if i in adict:\n",
        "      return i\n",
        "    else:   \n",
        "      adict[i] = 1 \n",
        "  return -1\n",
        "\n",
        "input = [2, 3]\n",
        "firstduplicate(input)"
      ],
      "execution_count": null,
      "outputs": [
        {
          "output_type": "execute_result",
          "data": {
            "text/plain": [
              "-1"
            ]
          },
          "metadata": {
            "tags": []
          },
          "execution_count": 2
        }
      ]
    },
    {
      "cell_type": "markdown",
      "metadata": {
        "id": "huA92SVWQ1Ly",
        "colab_type": "text"
      },
      "source": [
        "### 2. You are given an n x n 2D matrix that represents an image. Rotate the image by 90 degrees (anti-clockwise)."
      ]
    },
    {
      "cell_type": "code",
      "metadata": {
        "id": "gIlcihwNbygr",
        "colab_type": "code",
        "colab": {
          "base_uri": "https://localhost:8080/",
          "height": 86
        },
        "outputId": "970ea504-7b38-477c-a74e-cf01f9ecd726"
      },
      "source": [
        "input = [[1, 2, 3, 4],\n",
        "         [5, 6, 7, 8],\n",
        "         [9, 10, 11, 12],\n",
        "         [13, 14, 15, 16]]\n",
        "m = len(input)\n",
        "'''\n",
        "00 <- 03\n",
        "03 <- 33\n",
        "33 <- 30\n",
        "30 <- 00\n",
        "\n",
        "challenge here is to apply the indicies correctly\n",
        "here there is an outter square and inner square, therefore you need to run the loop for correct times\n",
        "under pressure getting these indices is tricky\n",
        "'''\n",
        "\n",
        "def rotateImage(input):\n",
        "  for i in range(m//2):\n",
        "    for j in range(i, m - i - 1):\n",
        "      temp = input[i][j]\n",
        "      input[i][j] = input[j][m - 1 - i]\n",
        "      input[j][m - 1 - i] = input[m - 1 - i][m - 1 - j]\n",
        "      input[m - 1 - i][m - 1 - j] = input[m - 1 - j][i]\n",
        "      input[m - 1 - j][i] = temp\n",
        "\n",
        "rotateImage(input)\n",
        "for i in input:\n",
        "  print(i)\n"
      ],
      "execution_count": null,
      "outputs": [
        {
          "output_type": "stream",
          "text": [
            "[4, 8, 12, 16]\n",
            "[3, 7, 11, 15]\n",
            "[2, 6, 10, 14]\n",
            "[1, 5, 9, 13]\n"
          ],
          "name": "stdout"
        }
      ]
    },
    {
      "cell_type": "code",
      "metadata": {
        "id": "ugPkQuHI2YI8",
        "colab_type": "code",
        "colab": {
          "base_uri": "https://localhost:8080/",
          "height": 86
        },
        "outputId": "c5357315-fd97-4a2f-f0ee-762bbe8f750b"
      },
      "source": [
        "# clockwise\n",
        "\n",
        "input = [[1, 2, 3, 4],\n",
        "         [5, 6, 7, 8],\n",
        "         [9, 10, 11, 12],\n",
        "         [13, 14, 15, 16]]\n",
        "m = len(input)\n",
        "'''\n",
        "00 <- 30\n",
        "30 <- 33\n",
        "33 <- 03\n",
        "03 <- 00\n",
        "\n",
        "'''\n",
        "\n",
        "def rotateImage(input):\n",
        "  for i in range(m//2):\n",
        "    for j in range(i, m - i - 1):\n",
        "      temp = input[i][j]\n",
        "      input[i][j] = input[m - 1 - j][i]\n",
        "      input[m - 1 - j][i] = input[m - 1 - i][m - 1 - j]\n",
        "      input[m - 1 - i][m - 1 - j] = input[j][m - 1 - i]\n",
        "      input[j][m - 1 - i] = temp\n",
        "\n",
        "rotateImage(input)\n",
        "for i in input:\n",
        "  print(i)"
      ],
      "execution_count": null,
      "outputs": [
        {
          "output_type": "stream",
          "text": [
            "[13, 9, 5, 1]\n",
            "[14, 10, 6, 2]\n",
            "[15, 11, 7, 3]\n",
            "[16, 12, 8, 4]\n"
          ],
          "name": "stdout"
        }
      ]
    },
    {
      "cell_type": "markdown",
      "metadata": {
        "id": "qWO7DGuX7aYr",
        "colab_type": "text"
      },
      "source": [
        "### 3. You are climbing a staircase that has n steps. You can take the steps either 1 or 2 at a time. Calculate how many distinct ways you can climb to the top of the staircase."
      ]
    },
    {
      "cell_type": "code",
      "metadata": {
        "id": "0yS8P6gP7g0y",
        "colab_type": "code",
        "colab": {
          "base_uri": "https://localhost:8080/",
          "height": 34
        },
        "outputId": "92ba88ca-4dd1-4634-b760-749f1697bb2f"
      },
      "source": [
        "'''\n",
        "hard part in this problem is to realize that this is a fibonacci sequence problem\n",
        "\n",
        "'''\n",
        "def climbingStairs(n):\n",
        "    if n == 1:\n",
        "        return 1\n",
        "    res = [0 for i  in range(n)]\n",
        "    res[0] = 1\n",
        "    res[1] = 2\n",
        "    for i in range(2,n):\n",
        "        res[i] = res[i-1] + res[i-2]    \n",
        "    return res[-1]\n",
        "\n",
        "print(climbingStairs(2))"
      ],
      "execution_count": null,
      "outputs": [
        {
          "output_type": "stream",
          "text": [
            "2\n"
          ],
          "name": "stdout"
        }
      ]
    },
    {
      "cell_type": "markdown",
      "metadata": {
        "id": "ERYogikFVQRT",
        "colab_type": "text"
      },
      "source": [
        "### 4. You are planning to rob houses on a specific street, and you know that every house on the street has a certain amount of money hidden. The only thing stopping you from robbing all of them in one night is that adjacent houses on the street have a connected security system. The system will automatically trigger an alarm if two adjacent houses are broken into on the same night. Given a list of non-negative integers nums representing the amount of money hidden in each house, determine the maximum amount of money you can rob in one night without triggering an alarm."
      ]
    },
    {
      "cell_type": "code",
      "metadata": {
        "id": "1HKrG_f9YYiZ",
        "colab_type": "code",
        "colab": {
          "base_uri": "https://localhost:8080/",
          "height": 34
        },
        "outputId": "6330b5ab-ed99-4457-aaac-130019983a98"
      },
      "source": [
        "'''\n",
        "here the key is to figure out the base case and then while using memoization to use the correct formula\n",
        "it is the case most of the times that the value of the next item can or will be derived from the earlier ones, therefore it is important to get the base cases correct\n",
        "'''\n",
        "\n",
        "def houseRobber(nums):\n",
        "  amount = []\n",
        "  amount.append(0) # if there are no houses there is nothing to choose\n",
        "  amount.append(nums[0])\n",
        "  for i in range(len(nums)):\n",
        "    #the key here is to understand the below equation. \n",
        "    #This says that if you select current house then you need to consider the values two away from them since the houses cannot be adjacent and \n",
        "    #if you do not select the current house then the amount is from the previous value\n",
        "    amount.append(max(amount[i - 2]+ nums[i], amount[i - 1]))\n",
        "  return max(amount)\n",
        "\n",
        "print(houseRobber([1, 1, 1]))"
      ],
      "execution_count": null,
      "outputs": [
        {
          "output_type": "stream",
          "text": [
            "2\n"
          ],
          "name": "stdout"
        }
      ]
    },
    {
      "cell_type": "code",
      "metadata": {
        "id": "hajmRgQVxljb",
        "colab_type": "code",
        "colab": {}
      },
      "source": [
        "'''\n",
        "below code does exactly as the above being very simple\n",
        "'''\n",
        "def houseRobber(nums):\n",
        "    dp1, dp2 = 0, 0\n",
        "    for num in nums:\n",
        "        dp1, dp2 = dp2, max(dp1 + num, dp2)   \n",
        "        print(dp1, dp2)       \n",
        "    return dp2 "
      ],
      "execution_count": null,
      "outputs": []
    },
    {
      "cell_type": "code",
      "metadata": {
        "id": "HDOEAenilbqj",
        "colab_type": "code",
        "colab": {
          "base_uri": "https://localhost:8080/",
          "height": 118
        },
        "outputId": "faf29917-b80e-49a5-a36a-56fc5397b4e1"
      },
      "source": [
        "houseRobber([3, 7, 4, 6, 5])"
      ],
      "execution_count": null,
      "outputs": [
        {
          "output_type": "stream",
          "text": [
            "0 3\n",
            "3 7\n",
            "7 7\n",
            "7 13\n",
            "13 13\n"
          ],
          "name": "stdout"
        },
        {
          "output_type": "execute_result",
          "data": {
            "text/plain": [
              "13"
            ]
          },
          "metadata": {
            "tags": []
          },
          "execution_count": 2
        }
      ]
    },
    {
      "cell_type": "markdown",
      "metadata": {
        "id": "XN4kyOUSbi7K",
        "colab_type": "text"
      },
      "source": [
        "### 5. Given a string s, find the length of the longest substring without repeating characters."
      ]
    },
    {
      "cell_type": "code",
      "metadata": {
        "id": "xri6bXtFJMV0",
        "colab_type": "code",
        "colab": {
          "base_uri": "https://localhost:8080/",
          "height": 34
        },
        "outputId": "a518b30d-8f07-4b79-e124-5da49b6afdc8"
      },
      "source": [
        "'''\n",
        "my solution which does not pass all the test cases\n",
        "'''\n",
        "\n",
        "def lengthOfLongestSubstring(s) -> int:\n",
        "    longest = ''\n",
        "    for i in range(len(s)):\n",
        "        temp = []\n",
        "        for j in range(i, len(s)):\n",
        "            if s[j] not in temp:\n",
        "                temp.append(s[j])\n",
        "            else:\n",
        "                if len(longest) <= len(temp):\n",
        "                    longest = ''.join(temp)                    \n",
        "                break\n",
        "    print(longest)\n",
        "\n",
        "s = \"pwwkew\"\n",
        "lengthOfLongestSubstring(s)\n"
      ],
      "execution_count": null,
      "outputs": [
        {
          "output_type": "stream",
          "text": [
            "wke\n"
          ],
          "name": "stdout"
        }
      ]
    },
    {
      "cell_type": "code",
      "metadata": {
        "id": "tHqp-0d3LYpX",
        "colab_type": "code",
        "colab": {
          "base_uri": "https://localhost:8080/",
          "height": 135
        },
        "outputId": "42b0f5c1-4b40-4116-fef1-dad82a8ad263"
      },
      "source": [
        "'''\n",
        "maintain a dictionary of values visited \n",
        "and then maintain 2 variables, start, maxlength and the index \n",
        "start tell where to start the new substring and the each time you find the maxlength from the index to the start and update that \n",
        "is that is the longest\n",
        "'''\n",
        "def lengthOfLongestSubstring(s):\n",
        "    start = maxLength = 0\n",
        "    usedChar = {}    \n",
        "    for i in range(len(s)):\n",
        "        if s[i] in usedChar and start <= usedChar[s[i]]:\n",
        "            start = usedChar[s[i]] + 1\n",
        "        else:\n",
        "            maxLength = max(maxLength, i - start + 1)\n",
        "        usedChar[s[i]] = i\n",
        "        print(usedChar, start)\n",
        "    return maxLength\n",
        "\n",
        "s = \"pwwkew\"\n",
        "lengthOfLongestSubstring(s)"
      ],
      "execution_count": null,
      "outputs": [
        {
          "output_type": "stream",
          "text": [
            "{'p': 0} 0\n",
            "{'p': 0, 'w': 1} 0\n",
            "{'p': 0, 'w': 2} 2\n",
            "{'p': 0, 'w': 2, 'k': 3} 2\n",
            "{'p': 0, 'w': 2, 'k': 3, 'e': 4} 2\n",
            "{'p': 0, 'w': 5, 'k': 3, 'e': 4} 3\n"
          ],
          "name": "stdout"
        },
        {
          "output_type": "execute_result",
          "data": {
            "text/plain": [
              "3"
            ]
          },
          "metadata": {
            "tags": []
          },
          "execution_count": 10
        }
      ]
    },
    {
      "cell_type": "code",
      "metadata": {
        "id": "UNIoxDJzNzlt",
        "colab_type": "code",
        "colab": {}
      },
      "source": [
        "def makeAnagram(a, b):\n",
        "    common = 0\n",
        "    minstring = list(a if len(a)<len(b) else b)\n",
        "    maxstring = list(a if len(a)>=len(b) else b)\n",
        "    print(minstring, maxstring)\n",
        "    for i in range(len(minstring)):\n",
        "        if minstring[i] in maxstring:\n",
        "            maxstring.remove(minstring[i])\n",
        "            common +=1\n",
        "    return len(a)+len(b) - 2*common"
      ],
      "execution_count": null,
      "outputs": []
    },
    {
      "cell_type": "code",
      "metadata": {
        "id": "YF8gJZD9uUvz",
        "colab_type": "code",
        "colab": {
          "base_uri": "https://localhost:8080/",
          "height": 51
        },
        "outputId": "6cbdc05b-91bc-43d9-86aa-21357492ef68"
      },
      "source": [
        "a = \"cde\"\n",
        "b = \"abc\"\n",
        "print(makeAnagram(a, b))\n"
      ],
      "execution_count": null,
      "outputs": [
        {
          "output_type": "stream",
          "text": [
            "['a', 'b', 'c'] ['c', 'd', 'e']\n",
            "4\n"
          ],
          "name": "stdout"
        }
      ]
    },
    {
      "cell_type": "code",
      "metadata": {
        "id": "BRyQomYBgp2X",
        "colab_type": "code",
        "colab": {}
      },
      "source": [
        "def isValid(s):\n",
        "    output = 0\n",
        "    lists = list(set(s))\n",
        "    m = len(lists)/2\n",
        "    print(lists)\n",
        "    for i in lists:\n",
        "        output += s.count(i)\n",
        "    return \"YES\" if output -1 == int(2**m)  else \"NO\""
      ],
      "execution_count": null,
      "outputs": []
    },
    {
      "cell_type": "code",
      "metadata": {
        "id": "iHCel7lUgtB9",
        "colab_type": "code",
        "colab": {
          "base_uri": "https://localhost:8080/",
          "height": 52
        },
        "outputId": "5a00b8a6-714f-41f7-d466-77fbbabb353e"
      },
      "source": [
        "isValid(\"abcdefghhgfedecba\")"
      ],
      "execution_count": null,
      "outputs": [
        {
          "output_type": "stream",
          "text": [
            "['g', 'e', 'a', 'b', 'd', 'h', 'f', 'c']\n"
          ],
          "name": "stdout"
        },
        {
          "output_type": "execute_result",
          "data": {
            "application/vnd.google.colaboratory.intrinsic+json": {
              "type": "string"
            },
            "text/plain": [
              "'YES'"
            ]
          },
          "metadata": {
            "tags": []
          },
          "execution_count": 31
        }
      ]
    },
    {
      "cell_type": "code",
      "metadata": {
        "id": "T9vlDi7Bu22C",
        "colab_type": "code",
        "colab": {}
      },
      "source": [
        "def abbreviation(a, b):\n",
        "    index_for_b = 0\n",
        "    index_of_a = 0\n",
        "    a = list(a)\n",
        "    while index_of_a < len(a):\n",
        "      print(a[index_of_a],b[index_for_b], index_of_a, index_for_b, a)\n",
        "      if a[index_of_a] == b[index_of_a] and index_of_a < len(b):\n",
        "        #index_for_b +=1\n",
        "        index_of_a +=1\n",
        "      elif a[index_of_a].upper() == b[index_of_a] and index_of_a < len(b):\n",
        "        a[index_of_a] = a[index_of_a].upper()\n",
        "        #index_for_b +=1\n",
        "        index_of_a +=1\n",
        "      else:\n",
        "        if a[index_of_a].islower() == True:\n",
        "          a.remove(a[index_of_a])\n",
        "        else: \n",
        "          return \"NO\"\n",
        "    a = \"\".join(a)\n",
        "    print(a, b)\n",
        "\n"
      ],
      "execution_count": null,
      "outputs": []
    },
    {
      "cell_type": "code",
      "metadata": {
        "id": "VJayJkDKwFTx",
        "colab_type": "code",
        "colab": {
          "base_uri": "https://localhost:8080/",
          "height": 383
        },
        "outputId": "40f74c32-27c9-4a28-8888-6bbf8ab98be4"
      },
      "source": [
        "abbreviation(\"AbcDEa\", \"ABDE\")"
      ],
      "execution_count": null,
      "outputs": [
        {
          "output_type": "stream",
          "text": [
            "A A 0 0 ['A', 'b', 'c', 'D', 'E', 'a']\n",
            "b A 1 0 ['A', 'b', 'c', 'D', 'E', 'a']\n",
            "c A 2 0 ['A', 'B', 'c', 'D', 'E', 'a']\n",
            "D A 2 0 ['A', 'B', 'D', 'E', 'a']\n",
            "E A 3 0 ['A', 'B', 'D', 'E', 'a']\n",
            "a A 4 0 ['A', 'B', 'D', 'E', 'a']\n"
          ],
          "name": "stdout"
        },
        {
          "output_type": "error",
          "ename": "IndexError",
          "evalue": "ignored",
          "traceback": [
            "\u001b[0;31m---------------------------------------------------------------------------\u001b[0m",
            "\u001b[0;31mIndexError\u001b[0m                                Traceback (most recent call last)",
            "\u001b[0;32m<ipython-input-24-5d8b733cf57e>\u001b[0m in \u001b[0;36m<module>\u001b[0;34m()\u001b[0m\n\u001b[0;32m----> 1\u001b[0;31m \u001b[0mabbreviation\u001b[0m\u001b[0;34m(\u001b[0m\u001b[0;34m\"AbcDEa\"\u001b[0m\u001b[0;34m,\u001b[0m \u001b[0;34m\"ABDE\"\u001b[0m\u001b[0;34m)\u001b[0m\u001b[0;34m\u001b[0m\u001b[0;34m\u001b[0m\u001b[0m\n\u001b[0m",
            "\u001b[0;32m<ipython-input-22-d75f43c56930>\u001b[0m in \u001b[0;36mabbreviation\u001b[0;34m(a, b)\u001b[0m\n\u001b[1;32m      5\u001b[0m     \u001b[0;32mwhile\u001b[0m \u001b[0mindex_of_a\u001b[0m \u001b[0;34m<\u001b[0m \u001b[0mlen\u001b[0m\u001b[0;34m(\u001b[0m\u001b[0ma\u001b[0m\u001b[0;34m)\u001b[0m\u001b[0;34m:\u001b[0m\u001b[0;34m\u001b[0m\u001b[0;34m\u001b[0m\u001b[0m\n\u001b[1;32m      6\u001b[0m       \u001b[0mprint\u001b[0m\u001b[0;34m(\u001b[0m\u001b[0ma\u001b[0m\u001b[0;34m[\u001b[0m\u001b[0mindex_of_a\u001b[0m\u001b[0;34m]\u001b[0m\u001b[0;34m,\u001b[0m\u001b[0mb\u001b[0m\u001b[0;34m[\u001b[0m\u001b[0mindex_for_b\u001b[0m\u001b[0;34m]\u001b[0m\u001b[0;34m,\u001b[0m \u001b[0mindex_of_a\u001b[0m\u001b[0;34m,\u001b[0m \u001b[0mindex_for_b\u001b[0m\u001b[0;34m,\u001b[0m \u001b[0ma\u001b[0m\u001b[0;34m)\u001b[0m\u001b[0;34m\u001b[0m\u001b[0;34m\u001b[0m\u001b[0m\n\u001b[0;32m----> 7\u001b[0;31m       \u001b[0;32mif\u001b[0m \u001b[0ma\u001b[0m\u001b[0;34m[\u001b[0m\u001b[0mindex_of_a\u001b[0m\u001b[0;34m]\u001b[0m \u001b[0;34m==\u001b[0m \u001b[0mb\u001b[0m\u001b[0;34m[\u001b[0m\u001b[0mindex_of_a\u001b[0m\u001b[0;34m]\u001b[0m \u001b[0;32mand\u001b[0m \u001b[0mindex_of_a\u001b[0m \u001b[0;34m<\u001b[0m \u001b[0mlen\u001b[0m\u001b[0;34m(\u001b[0m\u001b[0mb\u001b[0m\u001b[0;34m)\u001b[0m\u001b[0;34m:\u001b[0m\u001b[0;34m\u001b[0m\u001b[0;34m\u001b[0m\u001b[0m\n\u001b[0m\u001b[1;32m      8\u001b[0m         \u001b[0;31m#index_for_b +=1\u001b[0m\u001b[0;34m\u001b[0m\u001b[0;34m\u001b[0m\u001b[0;34m\u001b[0m\u001b[0m\n\u001b[1;32m      9\u001b[0m         \u001b[0mindex_of_a\u001b[0m \u001b[0;34m+=\u001b[0m\u001b[0;36m1\u001b[0m\u001b[0;34m\u001b[0m\u001b[0;34m\u001b[0m\u001b[0m\n",
            "\u001b[0;31mIndexError\u001b[0m: string index out of range"
          ]
        }
      ]
    }
  ]
}