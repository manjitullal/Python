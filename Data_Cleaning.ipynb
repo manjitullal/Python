{
  "nbformat": 4,
  "nbformat_minor": 0,
  "metadata": {
    "colab": {
      "name": "Data-Cleaning.ipynb",
      "provenance": [],
      "toc_visible": true,
      "authorship_tag": "ABX9TyOasbd9xJd0xSLjzZAMSmhE",
      "include_colab_link": true
    },
    "kernelspec": {
      "name": "python3",
      "display_name": "Python 3"
    }
  },
  "cells": [
    {
      "cell_type": "markdown",
      "metadata": {
        "id": "view-in-github",
        "colab_type": "text"
      },
      "source": [
        "<a href=\"https://colab.research.google.com/github/manjitullal/Python/blob/master/Data_Cleaning.ipynb\" target=\"_parent\"><img src=\"https://colab.research.google.com/assets/colab-badge.svg\" alt=\"Open In Colab\"/></a>"
      ]
    },
    {
      "cell_type": "markdown",
      "metadata": {
        "id": "QFnhw16WkpmZ"
      },
      "source": [
        "# How to changed the type of a pandas column"
      ]
    },
    {
      "cell_type": "code",
      "metadata": {
        "id": "-G4w_CoI5T_R",
        "outputId": "44ca0a9a-5c08-43ba-8107-637731bffdab",
        "colab": {
          "base_uri": "https://localhost:8080/",
          "height": 109
        }
      },
      "source": [
        "import pandas as pd\n",
        "df = pd.DataFrame({'a':['1','2'], 'b':[4,5]})\n",
        "df.head()"
      ],
      "execution_count": null,
      "outputs": [
        {
          "output_type": "execute_result",
          "data": {
            "text/html": [
              "<div>\n",
              "<style scoped>\n",
              "    .dataframe tbody tr th:only-of-type {\n",
              "        vertical-align: middle;\n",
              "    }\n",
              "\n",
              "    .dataframe tbody tr th {\n",
              "        vertical-align: top;\n",
              "    }\n",
              "\n",
              "    .dataframe thead th {\n",
              "        text-align: right;\n",
              "    }\n",
              "</style>\n",
              "<table border=\"1\" class=\"dataframe\">\n",
              "  <thead>\n",
              "    <tr style=\"text-align: right;\">\n",
              "      <th></th>\n",
              "      <th>a</th>\n",
              "      <th>b</th>\n",
              "    </tr>\n",
              "  </thead>\n",
              "  <tbody>\n",
              "    <tr>\n",
              "      <th>0</th>\n",
              "      <td>1</td>\n",
              "      <td>4</td>\n",
              "    </tr>\n",
              "    <tr>\n",
              "      <th>1</th>\n",
              "      <td>2</td>\n",
              "      <td>5</td>\n",
              "    </tr>\n",
              "  </tbody>\n",
              "</table>\n",
              "</div>"
            ],
            "text/plain": [
              "   a  b\n",
              "0  1  4\n",
              "1  2  5"
            ]
          },
          "metadata": {
            "tags": []
          },
          "execution_count": 1
        }
      ]
    },
    {
      "cell_type": "code",
      "metadata": {
        "id": "c-b9pdZM5i_V",
        "outputId": "5a416593-9ee4-4cd7-a5c5-bef7c9a29cab",
        "colab": {
          "base_uri": "https://localhost:8080/"
        }
      },
      "source": [
        "df.dtypes"
      ],
      "execution_count": null,
      "outputs": [
        {
          "output_type": "execute_result",
          "data": {
            "text/plain": [
              "a    object\n",
              "b     int64\n",
              "dtype: object"
            ]
          },
          "metadata": {
            "tags": []
          },
          "execution_count": 3
        }
      ]
    },
    {
      "cell_type": "code",
      "metadata": {
        "id": "nz1ldRHL5mWM"
      },
      "source": [
        "df = df.astype({\"a\": int})"
      ],
      "execution_count": null,
      "outputs": []
    },
    {
      "cell_type": "code",
      "metadata": {
        "id": "usVk_1MW5tfU",
        "outputId": "e49d58b8-32f3-48db-b684-16ee7f729bbb",
        "colab": {
          "base_uri": "https://localhost:8080/"
        }
      },
      "source": [
        "df.dtypes"
      ],
      "execution_count": null,
      "outputs": [
        {
          "output_type": "execute_result",
          "data": {
            "text/plain": [
              "a    int64\n",
              "b    int64\n",
              "dtype: object"
            ]
          },
          "metadata": {
            "tags": []
          },
          "execution_count": 5
        }
      ]
    },
    {
      "cell_type": "markdown",
      "metadata": {
        "id": "YCUxLNTX6B9-"
      },
      "source": [
        "https://stackoverflow.com/questions/15891038/change-column-type-in-pandas"
      ]
    },
    {
      "cell_type": "markdown",
      "metadata": {
        "id": "fxBXyUZs-y3u"
      },
      "source": [
        "# How to run the cosine similarity on a big matrix "
      ]
    },
    {
      "cell_type": "markdown",
      "metadata": {
        "id": "I4KQodaHFcuK"
      },
      "source": [
        "https://stackoverflow.com/questions/34890861/how-to-run-a-large-matrix-for-cosine-similarity-in-python"
      ]
    },
    {
      "cell_type": "code",
      "metadata": {
        "id": "xV97tn_n5ujU"
      },
      "source": [
        "import numpy as np\n",
        "\n",
        "m = np.random.randint(10, size=(3,3))"
      ],
      "execution_count": 1,
      "outputs": []
    },
    {
      "cell_type": "code",
      "metadata": {
        "id": "0vvXEcO8GejG",
        "outputId": "e80be707-54bd-40ed-f3d7-837b82ab54d9",
        "colab": {
          "base_uri": "https://localhost:8080/"
        }
      },
      "source": [
        "m = [[1, 1, 1], [2, 4, 2], [.8, 87, 8]]\n",
        "m = np.array(m)\n",
        "m"
      ],
      "execution_count": 21,
      "outputs": [
        {
          "output_type": "execute_result",
          "data": {
            "text/plain": [
              "array([[ 1. ,  1. ,  1. ],\n",
              "       [ 2. ,  4. ,  2. ],\n",
              "       [ 0.8, 87. ,  8. ]])"
            ]
          },
          "metadata": {
            "tags": []
          },
          "execution_count": 21
        }
      ]
    },
    {
      "cell_type": "code",
      "metadata": {
        "id": "FA2MUtVJGhCc"
      },
      "source": [
        "from sklearn import preprocessing\n",
        "\n",
        "cosine_sim = np.dot(preprocessing.normalize(m, axis=1), preprocessing.normalize(m, axis=1).T)"
      ],
      "execution_count": 22,
      "outputs": []
    },
    {
      "cell_type": "code",
      "metadata": {
        "id": "12zNRKn4GrEs",
        "outputId": "f925b26d-1933-4053-a2b6-5507c75e57d4",
        "colab": {
          "base_uri": "https://localhost:8080/"
        }
      },
      "source": [
        "cosine_sim"
      ],
      "execution_count": 23,
      "outputs": [
        {
          "output_type": "execute_result",
          "data": {
            "text/plain": [
              "array([[1.        , 0.94280904, 0.6330515 ],\n",
              "       [0.94280904, 1.        , 0.85415115],\n",
              "       [0.6330515 , 0.85415115, 1.        ]])"
            ]
          },
          "metadata": {
            "tags": []
          },
          "execution_count": 23
        }
      ]
    }
  ]
}