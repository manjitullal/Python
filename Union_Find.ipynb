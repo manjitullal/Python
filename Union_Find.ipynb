{
  "nbformat": 4,
  "nbformat_minor": 0,
  "metadata": {
    "colab": {
      "name": "Union-Find.ipynb",
      "provenance": [],
      "collapsed_sections": [],
      "authorship_tag": "ABX9TyNB+ENMwQBCT8yUhZuJBN/w",
      "include_colab_link": true
    },
    "kernelspec": {
      "name": "python3",
      "display_name": "Python 3"
    },
    "language_info": {
      "name": "python"
    }
  },
  "cells": [
    {
      "cell_type": "markdown",
      "metadata": {
        "id": "view-in-github",
        "colab_type": "text"
      },
      "source": [
        "<a href=\"https://colab.research.google.com/github/manjitullal/Python/blob/master/Union_Find.ipynb\" target=\"_parent\"><img src=\"https://colab.research.google.com/assets/colab-badge.svg\" alt=\"Open In Colab\"/></a>"
      ]
    },
    {
      "cell_type": "markdown",
      "metadata": {
        "id": "_p53r-lXa-96"
      },
      "source": [
        "# UnionFind \n",
        "\n",
        "This is a type of implementation datastructure where we find groups that are discrete and combine(union) them together. this is sort of like a tree structure, where initially each node is independent and then we add the links between the nodes and now there is a relationship between the nodes having a child and parent kind of relationship. whenever we are combining the sets the idea is to mark the parent correctly. path compression is done to make the datastructure efficient."
      ]
    },
    {
      "cell_type": "code",
      "metadata": {
        "colab": {
          "base_uri": "https://localhost:8080/"
        },
        "id": "AzluQ9Q8a_Jr",
        "outputId": "0a1a86e5-c97c-4e8c-ec3a-972c4acd635b"
      },
      "source": [
        "# sets of items\n",
        "# find operation \n",
        "# union operation \n",
        "# path compression \n",
        "\n",
        "# find all you get is the parent \n",
        "from collections import defaultdict\n",
        "\n",
        "class graph:\n",
        "  def __init__(self, vertices):\n",
        "    self.vertices = vertices \n",
        "    self.graph = defaultdict(list)\n",
        "\n",
        "  def add_edge(self, m, n):\n",
        "    self.graph[m].append(n)\n",
        "\n",
        "  def find_parent(self, parent, i):\n",
        "    if parent[i] == -1:\n",
        "      return i\n",
        "    if parent[i] != -1:\n",
        "      return self.find_parent(parent, parent[i])\n",
        "\n",
        "  def union(self, parent, x, y):\n",
        "    parent[x] = y\n",
        "\n",
        "  def is_cycle(self):\n",
        "    parent = [-1]*self.vertices\n",
        "\n",
        "    for i in self.graph:\n",
        "      for j in self.graph[i]:\n",
        "        x = self.find_parent(parent, i)\n",
        "        y = self.find_parent(parent, j)\n",
        "\n",
        "        if x == y:\n",
        "          return True\n",
        "        else:\n",
        "          self.union(parent, x, y)\n",
        "\n",
        "\n",
        "g = graph(4)\n",
        "g.add_edge(0, 1)\n",
        "g.add_edge(1, 2)\n",
        "g.add_edge(2, 3)\n",
        "\n",
        "if g.is_cycle():\n",
        "    print(\"Graph contains cycle\")\n",
        "else :\n",
        "    print(\"Graph does not contain cycle\")"
      ],
      "execution_count": null,
      "outputs": [
        {
          "output_type": "stream",
          "text": [
            "Graph does not contain cycle\n"
          ],
          "name": "stdout"
        }
      ]
    },
    {
      "cell_type": "code",
      "metadata": {
        "colab": {
          "base_uri": "https://localhost:8080/"
        },
        "id": "we1HNH5djwlo",
        "outputId": "e248d2da-f0fd-45cc-c87e-6bfc7ebbf59c"
      },
      "source": [
        "g.graph"
      ],
      "execution_count": null,
      "outputs": [
        {
          "output_type": "execute_result",
          "data": {
            "text/plain": [
              "defaultdict(list, {0: [1], 1: [2], 2: [3]})"
            ]
          },
          "metadata": {
            "tags": []
          },
          "execution_count": 15
        }
      ]
    },
    {
      "cell_type": "markdown",
      "metadata": {
        "id": "aoTqMIaykaDb"
      },
      "source": [
        "# References \n",
        "\n",
        "https://www.geeksforgeeks.org/union-find/"
      ]
    }
  ]
}