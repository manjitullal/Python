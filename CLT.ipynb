{
  "nbformat": 4,
  "nbformat_minor": 0,
  "metadata": {
    "colab": {
      "name": "CLT.ipynb",
      "provenance": []
    },
    "kernelspec": {
      "name": "python3",
      "display_name": "Python 3"
    }
  },
  "cells": [
    {
      "cell_type": "code",
      "metadata": {
        "id": "cq6aoU5Gb3yO",
        "colab_type": "code",
        "colab": {}
      },
      "source": [
        "from numpy.random import seed\n",
        "from numpy.random import randint\n",
        "from numpy import mean"
      ],
      "execution_count": 1,
      "outputs": []
    },
    {
      "cell_type": "code",
      "metadata": {
        "id": "UsHFcakRb-N1",
        "colab_type": "code",
        "colab": {}
      },
      "source": [
        "seed(1)"
      ],
      "execution_count": 2,
      "outputs": []
    },
    {
      "cell_type": "code",
      "metadata": {
        "id": "JlJfaaNDcEGW",
        "colab_type": "code",
        "colab": {
          "base_uri": "https://localhost:8080/",
          "height": 69
        },
        "outputId": "a898b948-8964-480d-c1f2-0d5fca5c10db"
      },
      "source": [
        "weights = randint(60, 90, 50)\n",
        "weights"
      ],
      "execution_count": 7,
      "outputs": [
        {
          "output_type": "execute_result",
          "data": {
            "text/plain": [
              "array([76, 73, 79, 69, 78, 75, 60, 64, 85, 75, 62, 83, 67, 86, 85, 68, 82,\n",
              "       69, 63, 67, 83, 89, 64, 87, 65, 85, 79, 66, 68, 60, 62, 70, 83, 75,\n",
              "       75, 83, 85, 67, 79, 88, 70, 74, 60, 84, 83, 83, 61, 77, 73, 63])"
            ]
          },
          "metadata": {
            "tags": []
          },
          "execution_count": 7
        }
      ]
    },
    {
      "cell_type": "code",
      "metadata": {
        "id": "_Ov45RhmcL0j",
        "colab_type": "code",
        "colab": {
          "base_uri": "https://localhost:8080/",
          "height": 34
        },
        "outputId": "b9c4f7b0-b8b7-416b-fdde-83d88836cb08"
      },
      "source": [
        "print('The average weight is {} kg'.format(mean(weights)))"
      ],
      "execution_count": 8,
      "outputs": [
        {
          "output_type": "stream",
          "text": [
            "The average weight is 74.14 kg\n"
          ],
          "name": "stdout"
        }
      ]
    },
    {
      "cell_type": "code",
      "metadata": {
        "id": "KqqqWjAwccmD",
        "colab_type": "code",
        "colab": {
          "base_uri": "https://localhost:8080/",
          "height": 282
        },
        "outputId": "5d65e647-d85f-4ae0-b747-3239e609c73e"
      },
      "source": [
        "import matplotlib.pyplot as plt\n",
        "seed(1)\n",
        "means = [mean(randint(60, 90, 50)) for _i in range(30000)]\n",
        "plt.hist(means)\n",
        "plt.show()\n",
        "print('The mean of the sample means is {}'.format(mean(means)))"
      ],
      "execution_count": 18,
      "outputs": [
        {
          "output_type": "display_data",
          "data": {
            "image/png": "[encoded data removed]",
            "text/plain": [
              "<Figure size 432x288 with 1 Axes>"
            ]
          },
          "metadata": {
            "tags": [],
            "needs_background": "light"
          }
        },
        {
          "output_type": "stream",
          "text": [
            "The mean of the sample means is 74.50298933333332\n"
          ],
          "name": "stdout"
        }
      ]
    },
    {
      "cell_type": "code",
      "metadata": {
        "id": "lLU0uyg6cM5z",
        "colab_type": "code",
        "colab": {
          "base_uri": "https://localhost:8080/",
          "height": 86
        },
        "outputId": "e88978ed-d1d6-4dc6-df8f-d20283c95511"
      },
      "source": [
        "from scipy.stats import shapiro\n",
        "stat, p = shapiro(means)\n",
        "print('Statistics={}, p={}'.format(stat, p))\n",
        "alpha = 0.05\n",
        "if p > alpha:\n",
        "    print('Sample looks Normal (do not reject H0)')\n",
        "else:\n",
        "    print('Sample does not look Normal (reject H0)')"
      ],
      "execution_count": 19,
      "outputs": [
        {
          "output_type": "stream",
          "text": [
            "Statistics=0.9999029040336609, p=0.3030497431755066\n",
            "Sample looks Normal (do not reject H0)\n"
          ],
          "name": "stdout"
        },
        {
          "output_type": "stream",
          "text": [
            "/usr/local/lib/python3.6/dist-packages/scipy/stats/morestats.py:1676: UserWarning: p-value may not be accurate for N > 5000.\n",
            "  warnings.warn(\"p-value may not be accurate for N > 5000.\")\n"
          ],
          "name": "stderr"
        }
      ]
    },
    {
      "cell_type": "code",
      "metadata": {
        "id": "NPpqlsU9dsVp",
        "colab_type": "code",
        "colab": {}
      },
      "source": [
        ""
      ],
      "execution_count": null,
      "outputs": []
    }
  ]
}